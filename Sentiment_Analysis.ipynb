{
 "cells": [
  {
   "cell_type": "markdown",
   "metadata": {},
   "source": [
    "# Imports"
   ]
  },
  {
   "cell_type": "code",
   "execution_count": 2,
   "metadata": {
    "collapsed": true
   },
   "outputs": [],
   "source": [
    "# General:\n",
    "import tweepy\n",
    "import pandas as pd\n",
    "import numpy as np\n",
    "\n",
    "# For plotting and visualisation\n",
    "from IPython.display import display\n",
    "import matplotlib.pyplot as plt\n",
    "import seaborn as sns\n",
    "%matplotlib inline"
   ]
  },
  {
   "cell_type": "markdown",
   "metadata": {},
   "source": [
    "# Create Twitter app and save credentials in credentials.py e.g.\n",
    "\n",
    "```python\n",
    "# Twitter App access keys for @user\n",
    "\n",
    "# Consume:\n",
    "CONSUMER_KEY    = ''\n",
    "CONSUMER_SECRET = ''\n",
    "\n",
    "# Access:\n",
    "ACCESS_TOKEN  = ''\n",
    "ACCESS_SECRET = ''\n",
    "```"
   ]
  },
  {
   "cell_type": "code",
   "execution_count": 3,
   "metadata": {
    "collapsed": true
   },
   "outputs": [],
   "source": [
    "# Import access keys\n",
    "from credentials import *"
   ]
  },
  {
   "cell_type": "markdown",
   "metadata": {},
   "source": [
    "# Tweet Extraction"
   ]
  },
  {
   "cell_type": "code",
   "execution_count": 4,
   "metadata": {
    "collapsed": true
   },
   "outputs": [],
   "source": [
    "# API's setup\n",
    "def twitter_setup():\n",
    "    \"\"\"\n",
    "    Utility function to setup the Twitter API\n",
    "    with our access keys provided\n",
    "    \"\"\"\n",
    "    # Authentication and access using keys:\n",
    "    auth = tweepy.OAuthHandler(CONSUMER_KEY, CONSUMER_SECRET)\n",
    "    auth.set_access_token(ACCESS_TOKEN, ACCESS_SECRET)\n",
    "    \n",
    "    # Return API with authentication\n",
    "    return tweepy.API(auth)"
   ]
  },
  {
   "cell_type": "code",
   "execution_count": 8,
   "metadata": {},
   "outputs": [
    {
     "name": "stdout",
     "output_type": "stream",
     "text": [
      "Number of tweets extracted: 200.\n",
      "\n",
      "5 recent tweets:\n",
      "\n",
      "GDP was revised upward to 3.1 for last quarter. Many people thought it would be years before that happened. We have just begun!\n",
      "RT @GOPChairwoman: The Trump Inaugural Committee is donating $3 million in surplus funds to victims of the latest hurricanes. \n",
      "https://t.co…\n",
      "Puerto Rico is devastated. Phone system, electric grid many roads, gone. FEMA and First Responders are amazing. Governor said \"great job!\"\n",
      "RT @billoreilly: Hannity crushing MSNBC at 9. Good for him! Check the No Spin News on https://t.co/rryWmyXe7C. Killing England a huge bests…\n",
      "RT @IvankaTrump: Thank you to the amazing men and women working tirelessly to bring relief to those in need. #PuertoRico #HurricaneMaria ht…\n"
     ]
    }
   ],
   "source": [
    "# Extract Twitter data\n",
    "extractor = twitter_setup()\n",
    "\n",
    "# Create a tweet list:\n",
    "tweets = extractor.user_timeline(screen_name=\"realDonaldTrump\", count=200)\n",
    "print(\"Number of tweets extracted: {}.\\n\".format(len(tweets)))\n",
    "\n",
    "# Print the last 5 tweets\n",
    "print(\"5 recent tweets:\\n\")\n",
    "for tweet in tweets[:5]:\n",
    "    print(tweet.text)\n",
    "    print"
   ]
  },
  {
   "cell_type": "markdown",
   "metadata": {},
   "source": [
    "# Create Pandas dataframe"
   ]
  },
  {
   "cell_type": "code",
   "execution_count": 10,
   "metadata": {},
   "outputs": [
    {
     "data": {
      "text/html": [
       "<div>\n",
       "<style>\n",
       "    .dataframe thead tr:only-child th {\n",
       "        text-align: right;\n",
       "    }\n",
       "\n",
       "    .dataframe thead th {\n",
       "        text-align: left;\n",
       "    }\n",
       "\n",
       "    .dataframe tbody tr th {\n",
       "        vertical-align: top;\n",
       "    }\n",
       "</style>\n",
       "<table border=\"1\" class=\"dataframe\">\n",
       "  <thead>\n",
       "    <tr style=\"text-align: right;\">\n",
       "      <th></th>\n",
       "      <th>Tweets</th>\n",
       "    </tr>\n",
       "  </thead>\n",
       "  <tbody>\n",
       "    <tr>\n",
       "      <th>0</th>\n",
       "      <td>GDP was revised upward to 3.1 for last quarter...</td>\n",
       "    </tr>\n",
       "    <tr>\n",
       "      <th>1</th>\n",
       "      <td>RT @GOPChairwoman: The Trump Inaugural Committ...</td>\n",
       "    </tr>\n",
       "    <tr>\n",
       "      <th>2</th>\n",
       "      <td>Puerto Rico is devastated. Phone system, elect...</td>\n",
       "    </tr>\n",
       "    <tr>\n",
       "      <th>3</th>\n",
       "      <td>RT @billoreilly: Hannity crushing MSNBC at 9. ...</td>\n",
       "    </tr>\n",
       "    <tr>\n",
       "      <th>4</th>\n",
       "      <td>RT @IvankaTrump: Thank you to the amazing men ...</td>\n",
       "    </tr>\n",
       "    <tr>\n",
       "      <th>5</th>\n",
       "      <td>...really hard to help but many have lost thei...</td>\n",
       "    </tr>\n",
       "    <tr>\n",
       "      <th>6</th>\n",
       "      <td>FEMA &amp;amp; First Responders are doing a GREAT ...</td>\n",
       "    </tr>\n",
       "    <tr>\n",
       "      <th>7</th>\n",
       "      <td>Welcome back @SteveScalise!\\n#TeamScalise http...</td>\n",
       "    </tr>\n",
       "    <tr>\n",
       "      <th>8</th>\n",
       "      <td>The electric power grid in Puerto Rico is tota...</td>\n",
       "    </tr>\n",
       "    <tr>\n",
       "      <th>9</th>\n",
       "      <td>Democrats don't want massive tax cuts - how do...</td>\n",
       "    </tr>\n",
       "  </tbody>\n",
       "</table>\n",
       "</div>"
      ],
      "text/plain": [
       "                                              Tweets\n",
       "0  GDP was revised upward to 3.1 for last quarter...\n",
       "1  RT @GOPChairwoman: The Trump Inaugural Committ...\n",
       "2  Puerto Rico is devastated. Phone system, elect...\n",
       "3  RT @billoreilly: Hannity crushing MSNBC at 9. ...\n",
       "4  RT @IvankaTrump: Thank you to the amazing men ...\n",
       "5  ...really hard to help but many have lost thei...\n",
       "6  FEMA &amp; First Responders are doing a GREAT ...\n",
       "7  Welcome back @SteveScalise!\\n#TeamScalise http...\n",
       "8  The electric power grid in Puerto Rico is tota...\n",
       "9  Democrats don't want massive tax cuts - how do..."
      ]
     },
     "metadata": {},
     "output_type": "display_data"
    }
   ],
   "source": [
    "# Create a pandas dataframe as follows:\n",
    "data = pd.DataFrame(data=[tweet.text for tweet in tweets], columns=['Tweets'])\n",
    "\n",
    "# Display the first 10 elements of the dataframe\n",
    "display(data.head(10))"
   ]
  },
  {
   "cell_type": "code",
   "execution_count": 11,
   "metadata": {},
   "outputs": [
    {
     "name": "stdout",
     "output_type": "stream",
     "text": [
      "['__class__', '__delattr__', '__dict__', '__dir__', '__doc__', '__eq__', '__format__', '__ge__', '__getattribute__', '__getstate__', '__gt__', '__hash__', '__init__', '__le__', '__lt__', '__module__', '__ne__', '__new__', '__reduce__', '__reduce_ex__', '__repr__', '__setattr__', '__sizeof__', '__str__', '__subclasshook__', '__weakref__', '_api', '_json', 'author', 'contributors', 'coordinates', 'created_at', 'destroy', 'entities', 'favorite', 'favorite_count', 'favorited', 'geo', 'id', 'id_str', 'in_reply_to_screen_name', 'in_reply_to_status_id', 'in_reply_to_status_id_str', 'in_reply_to_user_id', 'in_reply_to_user_id_str', 'is_quote_status', 'lang', 'parse', 'parse_list', 'place', 'retweet', 'retweet_count', 'retweeted', 'retweets', 'source', 'source_url', 'text', 'truncated', 'user']\n"
     ]
    }
   ],
   "source": [
    "# Internal methods of a single tweet object:\n",
    "print(dir(tweets[0]))"
   ]
  },
  {
   "cell_type": "code",
   "execution_count": 12,
   "metadata": {},
   "outputs": [
    {
     "name": "stdout",
     "output_type": "stream",
     "text": [
      "913589799411490817\n",
      "2017-09-29 02:22:36\n",
      "Twitter for iPhone\n",
      "24681\n",
      "6252\n",
      "None\n",
      "None\n",
      "{'hashtags': [], 'symbols': [], 'urls': [], 'user_mentions': []}\n"
     ]
    }
   ],
   "source": [
    "# Print info from the first tweet:\n",
    "print(tweets[0].id)\n",
    "print(tweets[0].created_at)\n",
    "print(tweets[0].source)\n",
    "print(tweets[0].favorite_count)\n",
    "print(tweets[0].retweet_count)\n",
    "print(tweets[0].geo)\n",
    "print(tweets[0].coordinates)\n",
    "print(tweets[0].entities)"
   ]
  },
  {
   "cell_type": "markdown",
   "metadata": {},
   "source": [
    "# Add relvant info to dataframe"
   ]
  },
  {
   "cell_type": "code",
   "execution_count": 15,
   "metadata": {
    "collapsed": true
   },
   "outputs": [],
   "source": [
    "# Add relavant data\n",
    "data['len'] = np.array([len(tweet.text) for tweet in tweets])\n",
    "data['ID'] = np.array([tweet.id for tweet in tweets])\n",
    "data['Date'] = np.array([tweet.created_at for tweet in tweets])\n",
    "data['Source'] = np.array([tweet.source for tweet in tweets])\n",
    "data['Likes'] = np.array([tweet.favorite_count for tweet in tweets])\n",
    "data['RTs'] = np.array([tweet.retweet_count for tweet in tweets])"
   ]
  },
  {
   "cell_type": "code",
   "execution_count": 16,
   "metadata": {},
   "outputs": [
    {
     "data": {
      "text/html": [
       "<div>\n",
       "<style>\n",
       "    .dataframe thead tr:only-child th {\n",
       "        text-align: right;\n",
       "    }\n",
       "\n",
       "    .dataframe thead th {\n",
       "        text-align: left;\n",
       "    }\n",
       "\n",
       "    .dataframe tbody tr th {\n",
       "        vertical-align: top;\n",
       "    }\n",
       "</style>\n",
       "<table border=\"1\" class=\"dataframe\">\n",
       "  <thead>\n",
       "    <tr style=\"text-align: right;\">\n",
       "      <th></th>\n",
       "      <th>Tweets</th>\n",
       "      <th>len</th>\n",
       "      <th>ID</th>\n",
       "      <th>Date</th>\n",
       "      <th>Source</th>\n",
       "      <th>Likes</th>\n",
       "      <th>RTs</th>\n",
       "    </tr>\n",
       "  </thead>\n",
       "  <tbody>\n",
       "    <tr>\n",
       "      <th>0</th>\n",
       "      <td>GDP was revised upward to 3.1 for last quarter...</td>\n",
       "      <td>127</td>\n",
       "      <td>913589799411490817</td>\n",
       "      <td>2017-09-29 02:22:36</td>\n",
       "      <td>Twitter for iPhone</td>\n",
       "      <td>24681</td>\n",
       "      <td>6252</td>\n",
       "    </tr>\n",
       "    <tr>\n",
       "      <th>1</th>\n",
       "      <td>RT @GOPChairwoman: The Trump Inaugural Committ...</td>\n",
       "      <td>140</td>\n",
       "      <td>913570791698173952</td>\n",
       "      <td>2017-09-29 01:07:04</td>\n",
       "      <td>Twitter for iPhone</td>\n",
       "      <td>0</td>\n",
       "      <td>7477</td>\n",
       "    </tr>\n",
       "    <tr>\n",
       "      <th>2</th>\n",
       "      <td>Puerto Rico is devastated. Phone system, elect...</td>\n",
       "      <td>138</td>\n",
       "      <td>913554705816711168</td>\n",
       "      <td>2017-09-29 00:03:09</td>\n",
       "      <td>Twitter for iPhone</td>\n",
       "      <td>35152</td>\n",
       "      <td>7679</td>\n",
       "    </tr>\n",
       "    <tr>\n",
       "      <th>3</th>\n",
       "      <td>RT @billoreilly: Hannity crushing MSNBC at 9. ...</td>\n",
       "      <td>140</td>\n",
       "      <td>913551290717831170</td>\n",
       "      <td>2017-09-28 23:49:35</td>\n",
       "      <td>Twitter for iPhone</td>\n",
       "      <td>0</td>\n",
       "      <td>5103</td>\n",
       "    </tr>\n",
       "    <tr>\n",
       "      <th>4</th>\n",
       "      <td>RT @IvankaTrump: Thank you to the amazing men ...</td>\n",
       "      <td>140</td>\n",
       "      <td>913550853239443457</td>\n",
       "      <td>2017-09-28 23:47:51</td>\n",
       "      <td>Twitter for iPhone</td>\n",
       "      <td>0</td>\n",
       "      <td>4980</td>\n",
       "    </tr>\n",
       "    <tr>\n",
       "      <th>5</th>\n",
       "      <td>...really hard to help but many have lost thei...</td>\n",
       "      <td>138</td>\n",
       "      <td>913550237377138688</td>\n",
       "      <td>2017-09-28 23:45:24</td>\n",
       "      <td>Twitter for iPhone</td>\n",
       "      <td>39971</td>\n",
       "      <td>8107</td>\n",
       "    </tr>\n",
       "    <tr>\n",
       "      <th>6</th>\n",
       "      <td>FEMA &amp;amp; First Responders are doing a GREAT ...</td>\n",
       "      <td>151</td>\n",
       "      <td>913549374227181568</td>\n",
       "      <td>2017-09-28 23:41:58</td>\n",
       "      <td>Twitter for iPhone</td>\n",
       "      <td>30185</td>\n",
       "      <td>6462</td>\n",
       "    </tr>\n",
       "    <tr>\n",
       "      <th>7</th>\n",
       "      <td>Welcome back @SteveScalise!\\n#TeamScalise http...</td>\n",
       "      <td>64</td>\n",
       "      <td>913488283321159680</td>\n",
       "      <td>2017-09-28 19:39:13</td>\n",
       "      <td>Media Studio</td>\n",
       "      <td>48326</td>\n",
       "      <td>10845</td>\n",
       "    </tr>\n",
       "    <tr>\n",
       "      <th>8</th>\n",
       "      <td>The electric power grid in Puerto Rico is tota...</td>\n",
       "      <td>126</td>\n",
       "      <td>913403237033742336</td>\n",
       "      <td>2017-09-28 14:01:16</td>\n",
       "      <td>Twitter for iPhone</td>\n",
       "      <td>73918</td>\n",
       "      <td>15785</td>\n",
       "    </tr>\n",
       "    <tr>\n",
       "      <th>9</th>\n",
       "      <td>Democrats don't want massive tax cuts - how do...</td>\n",
       "      <td>111</td>\n",
       "      <td>913371663789625344</td>\n",
       "      <td>2017-09-28 11:55:48</td>\n",
       "      <td>Twitter for iPhone</td>\n",
       "      <td>68280</td>\n",
       "      <td>15709</td>\n",
       "    </tr>\n",
       "  </tbody>\n",
       "</table>\n",
       "</div>"
      ],
      "text/plain": [
       "                                              Tweets  len                  ID  \\\n",
       "0  GDP was revised upward to 3.1 for last quarter...  127  913589799411490817   \n",
       "1  RT @GOPChairwoman: The Trump Inaugural Committ...  140  913570791698173952   \n",
       "2  Puerto Rico is devastated. Phone system, elect...  138  913554705816711168   \n",
       "3  RT @billoreilly: Hannity crushing MSNBC at 9. ...  140  913551290717831170   \n",
       "4  RT @IvankaTrump: Thank you to the amazing men ...  140  913550853239443457   \n",
       "5  ...really hard to help but many have lost thei...  138  913550237377138688   \n",
       "6  FEMA &amp; First Responders are doing a GREAT ...  151  913549374227181568   \n",
       "7  Welcome back @SteveScalise!\\n#TeamScalise http...   64  913488283321159680   \n",
       "8  The electric power grid in Puerto Rico is tota...  126  913403237033742336   \n",
       "9  Democrats don't want massive tax cuts - how do...  111  913371663789625344   \n",
       "\n",
       "                 Date              Source  Likes    RTs  \n",
       "0 2017-09-29 02:22:36  Twitter for iPhone  24681   6252  \n",
       "1 2017-09-29 01:07:04  Twitter for iPhone      0   7477  \n",
       "2 2017-09-29 00:03:09  Twitter for iPhone  35152   7679  \n",
       "3 2017-09-28 23:49:35  Twitter for iPhone      0   5103  \n",
       "4 2017-09-28 23:47:51  Twitter for iPhone      0   4980  \n",
       "5 2017-09-28 23:45:24  Twitter for iPhone  39971   8107  \n",
       "6 2017-09-28 23:41:58  Twitter for iPhone  30185   6462  \n",
       "7 2017-09-28 19:39:13        Media Studio  48326  10845  \n",
       "8 2017-09-28 14:01:16  Twitter for iPhone  73918  15785  \n",
       "9 2017-09-28 11:55:48  Twitter for iPhone  68280  15709  "
      ]
     },
     "metadata": {},
     "output_type": "display_data"
    }
   ],
   "source": [
    "# Display first 10 elements from dataframe:\n",
    "display(data.head(10))"
   ]
  },
  {
   "cell_type": "markdown",
   "metadata": {},
   "source": [
    "# Visualisation and basic statistics"
   ]
  },
  {
   "cell_type": "markdown",
   "metadata": {},
   "source": [
    "### Averages and popularity"
   ]
  },
  {
   "cell_type": "code",
   "execution_count": 17,
   "metadata": {},
   "outputs": [
    {
     "name": "stdout",
     "output_type": "stream",
     "text": [
      "The average length of all tweets: 124.595\n"
     ]
    }
   ],
   "source": [
    "# Extract mean of tweet length\n",
    "mean = np.mean(data['len'])\n",
    "\n",
    "print(\"The average length of all tweets: {}\".format(mean))"
   ]
  },
  {
   "cell_type": "code",
   "execution_count": 21,
   "metadata": {},
   "outputs": [
    {
     "name": "stdout",
     "output_type": "stream",
     "text": [
      "The tweet with the most favorites is: \n",
      "Going to the White House is considered a great honor for a championship team.Stephen Curry is hesitating,therefore invitation is withdrawn!\n",
      "Number of likes: 214071\n",
      "139 characters.\n",
      "\n",
      "The tweet with the most retweets is: \n",
      "#StandForOurAnthem\n",
      "Number of retweets: 73978\n",
      "18 characters.\n",
      "\n"
     ]
    }
   ],
   "source": [
    "# Extract most favorited and most retweeted tweets\n",
    "fav_max = np.max(data['Likes'])\n",
    "rt_max = np.max(data['RTs'])\n",
    "\n",
    "fav = data[data.Likes == fav_max].index[0]\n",
    "rt = data[data.RTs == rt_max].index[0]\n",
    "\n",
    "# Most favorited\n",
    "print(\"The tweet with the most favorites is: \\n{}\".format(data['Tweets'][fav]))\n",
    "print(\"Number of likes: {}\".format(fav_max))\n",
    "print(\"{} characters.\\n\".format(data['len'][fav]))\n",
    "\n",
    "# Most retweeted\n",
    "print(\"The tweet with the most retweets is: \\n{}\".format(data['Tweets'][rt]))\n",
    "print(\"Number of retweets: {}\".format(rt_max))\n",
    "print(\"{} characters.\\n\".format(data['len'][rt]))"
   ]
  },
  {
   "cell_type": "markdown",
   "metadata": {},
   "source": [
    "### Time series"
   ]
  },
  {
   "cell_type": "code",
   "execution_count": 25,
   "metadata": {
    "collapsed": true
   },
   "outputs": [],
   "source": [
    "# Create time series for the data:\n",
    "\n",
    "tlen = pd.Series(data['len'].values, index=data['Date'])\n",
    "tfav = pd.Series(data['Likes'].values, index=data['Date'])\n",
    "tret = pd.Series(data['RTs'].values, index=data['Date'])"
   ]
  },
  {
   "cell_type": "code",
   "execution_count": 26,
   "metadata": {},
   "outputs": [
    {
     "data": {
      "text/plain": [
       "<matplotlib.axes._subplots.AxesSubplot at 0x11b4cba90>"
      ]
     },
     "execution_count": 26,
     "metadata": {},
     "output_type": "execute_result"
    },
    {
     "data": {
      "image/png": "[encoded data removed]",
      "text/plain": [
       "<matplotlib.figure.Figure at 0x11b4eccc0>"
      ]
     },
     "metadata": {},
     "output_type": "display_data"
    }
   ],
   "source": [
    "# Plot tweet lengths against time:\n",
    "tlen.plot(figsize=(16,4), color='r')"
   ]
  },
  {
   "cell_type": "code",
   "execution_count": 27,
   "metadata": {},
   "outputs": [
    {
     "data": {
      "text/plain": [
       "<matplotlib.axes._subplots.AxesSubplot at 0x11ed11198>"
      ]
     },
     "execution_count": 27,
     "metadata": {},
     "output_type": "execute_result"
    },
    {
     "data": {
      "image/png": "[encoded data removed]",
      "text/plain": [
       "<matplotlib.figure.Figure at 0x11a3ed198>"
      ]
     },
     "metadata": {},
     "output_type": "display_data"
    }
   ],
   "source": [
    "tfav.plot(figsize=(16,4), label='Likes', legend=True)\n",
    "tret.plot(figsize=(16,4), label='Retweets', legend=True)"
   ]
  },
  {
   "cell_type": "markdown",
   "metadata": {},
   "source": [
    "### Sources pie chart"
   ]
  },
  {
   "cell_type": "code",
   "execution_count": 29,
   "metadata": {},
   "outputs": [
    {
     "name": "stdout",
     "output_type": "stream",
     "text": [
      "Creation of content sources:\n",
      "* Twitter for iPhone\n",
      "* Media Studio\n"
     ]
    }
   ],
   "source": [
    "# Create pie chart of sources\n",
    "sources = []\n",
    "for source in data['Source']:\n",
    "    if source not in sources:\n",
    "        sources.append(source)\n",
    "        \n",
    "# Print the sources list\n",
    "print(\"Creation of content sources:\")\n",
    "for source in sources:\n",
    "    print(\"* {}\". format(source))"
   ]
  },
  {
   "cell_type": "code",
   "execution_count": 31,
   "metadata": {},
   "outputs": [
    {
     "data": {
      "text/plain": [
       "<matplotlib.axes._subplots.AxesSubplot at 0x11ebc0b70>"
      ]
     },
     "execution_count": 31,
     "metadata": {},
     "output_type": "execute_result"
    },
    {
     "data": {
      "image/png": "[encoded data removed]",
      "text/plain": [
       "<matplotlib.figure.Figure at 0x11ebd4f98>"
      ]
     },
     "metadata": {},
     "output_type": "display_data"
    }
   ],
   "source": [
    "# Create a numpy vector mapped to labels\n",
    "percent = np.zeros(len(sources))\n",
    "\n",
    "for source in data['Source']:\n",
    "    for index in range(len(sources)):\n",
    "        if source == sources[index]:\n",
    "            percent[index] += 1\n",
    "            pass\n",
    "\n",
    "percent /= 100\n",
    "\n",
    "# Plot pie chart:\n",
    "pie_chart = pd.Series(percent, index=sources, name='Sources')\n",
    "pie_chart.plot.pie(fontsize=11, autopct='%.2f', figsize=(6,6))"
   ]
  },
  {
   "cell_type": "markdown",
   "metadata": {},
   "source": [
    "# Sentiment Analysis"
   ]
  },
  {
   "cell_type": "markdown",
   "metadata": {},
   "source": [
    "### Import textblob"
   ]
  },
  {
   "cell_type": "code",
   "execution_count": 36,
   "metadata": {},
   "outputs": [],
   "source": [
    "from textblob import TextBlob\n",
    "import re\n",
    "\n",
    "def clean_tweet(tweet):\n",
    "    '''\n",
    "    Utility function to clean the text in a tweet by removing\n",
    "    links and special characters using regex\n",
    "    '''\n",
    "    return ' '.join(re.sub(\"(@[A-Za-z0-9]+)|([^0-9A-Za-z \\t])|(\\w+:\\/\\/\\S+)\", \" \", tweet).split())\n",
    "\n",
    "def analyse_sentiment(tweet):\n",
    "    '''\n",
    "    Utility function to classify the polarity of a tweet\n",
    "    using textblob\n",
    "    '''\n",
    "    analysis = TextBlob(clean_tweet(tweet))\n",
    "    if analysis.sentiment.polarity > 0:\n",
    "        return 1\n",
    "    elif analysis.sentiment.polarity == 0:\n",
    "        return 0\n",
    "    else:\n",
    "        return -1\n"
   ]
  },
  {
   "cell_type": "code",
   "execution_count": 37,
   "metadata": {},
   "outputs": [
    {
     "data": {
      "text/html": [
       "<div>\n",
       "<style>\n",
       "    .dataframe thead tr:only-child th {\n",
       "        text-align: right;\n",
       "    }\n",
       "\n",
       "    .dataframe thead th {\n",
       "        text-align: left;\n",
       "    }\n",
       "\n",
       "    .dataframe tbody tr th {\n",
       "        vertical-align: top;\n",
       "    }\n",
       "</style>\n",
       "<table border=\"1\" class=\"dataframe\">\n",
       "  <thead>\n",
       "    <tr style=\"text-align: right;\">\n",
       "      <th></th>\n",
       "      <th>Tweets</th>\n",
       "      <th>len</th>\n",
       "      <th>ID</th>\n",
       "      <th>Date</th>\n",
       "      <th>Source</th>\n",
       "      <th>Likes</th>\n",
       "      <th>RTs</th>\n",
       "      <th>SA</th>\n",
       "    </tr>\n",
       "  </thead>\n",
       "  <tbody>\n",
       "    <tr>\n",
       "      <th>0</th>\n",
       "      <td>GDP was revised upward to 3.1 for last quarter...</td>\n",
       "      <td>127</td>\n",
       "      <td>913589799411490817</td>\n",
       "      <td>2017-09-29 02:22:36</td>\n",
       "      <td>Twitter for iPhone</td>\n",
       "      <td>24681</td>\n",
       "      <td>6252</td>\n",
       "      <td>1</td>\n",
       "    </tr>\n",
       "    <tr>\n",
       "      <th>1</th>\n",
       "      <td>RT @GOPChairwoman: The Trump Inaugural Committ...</td>\n",
       "      <td>140</td>\n",
       "      <td>913570791698173952</td>\n",
       "      <td>2017-09-29 01:07:04</td>\n",
       "      <td>Twitter for iPhone</td>\n",
       "      <td>0</td>\n",
       "      <td>7477</td>\n",
       "      <td>1</td>\n",
       "    </tr>\n",
       "    <tr>\n",
       "      <th>2</th>\n",
       "      <td>Puerto Rico is devastated. Phone system, elect...</td>\n",
       "      <td>138</td>\n",
       "      <td>913554705816711168</td>\n",
       "      <td>2017-09-29 00:03:09</td>\n",
       "      <td>Twitter for iPhone</td>\n",
       "      <td>35152</td>\n",
       "      <td>7679</td>\n",
       "      <td>1</td>\n",
       "    </tr>\n",
       "    <tr>\n",
       "      <th>3</th>\n",
       "      <td>RT @billoreilly: Hannity crushing MSNBC at 9. ...</td>\n",
       "      <td>140</td>\n",
       "      <td>913551290717831170</td>\n",
       "      <td>2017-09-28 23:49:35</td>\n",
       "      <td>Twitter for iPhone</td>\n",
       "      <td>0</td>\n",
       "      <td>5103</td>\n",
       "      <td>1</td>\n",
       "    </tr>\n",
       "    <tr>\n",
       "      <th>4</th>\n",
       "      <td>RT @IvankaTrump: Thank you to the amazing men ...</td>\n",
       "      <td>140</td>\n",
       "      <td>913550853239443457</td>\n",
       "      <td>2017-09-28 23:47:51</td>\n",
       "      <td>Twitter for iPhone</td>\n",
       "      <td>0</td>\n",
       "      <td>4980</td>\n",
       "      <td>1</td>\n",
       "    </tr>\n",
       "    <tr>\n",
       "      <th>5</th>\n",
       "      <td>...really hard to help but many have lost thei...</td>\n",
       "      <td>138</td>\n",
       "      <td>913550237377138688</td>\n",
       "      <td>2017-09-28 23:45:24</td>\n",
       "      <td>Twitter for iPhone</td>\n",
       "      <td>39971</td>\n",
       "      <td>8107</td>\n",
       "      <td>1</td>\n",
       "    </tr>\n",
       "    <tr>\n",
       "      <th>6</th>\n",
       "      <td>FEMA &amp;amp; First Responders are doing a GREAT ...</td>\n",
       "      <td>151</td>\n",
       "      <td>913549374227181568</td>\n",
       "      <td>2017-09-28 23:41:58</td>\n",
       "      <td>Twitter for iPhone</td>\n",
       "      <td>30185</td>\n",
       "      <td>6462</td>\n",
       "      <td>1</td>\n",
       "    </tr>\n",
       "    <tr>\n",
       "      <th>7</th>\n",
       "      <td>Welcome back @SteveScalise!\\n#TeamScalise http...</td>\n",
       "      <td>64</td>\n",
       "      <td>913488283321159680</td>\n",
       "      <td>2017-09-28 19:39:13</td>\n",
       "      <td>Media Studio</td>\n",
       "      <td>48326</td>\n",
       "      <td>10845</td>\n",
       "      <td>1</td>\n",
       "    </tr>\n",
       "    <tr>\n",
       "      <th>8</th>\n",
       "      <td>The electric power grid in Puerto Rico is tota...</td>\n",
       "      <td>126</td>\n",
       "      <td>913403237033742336</td>\n",
       "      <td>2017-09-28 14:01:16</td>\n",
       "      <td>Twitter for iPhone</td>\n",
       "      <td>73918</td>\n",
       "      <td>15785</td>\n",
       "      <td>1</td>\n",
       "    </tr>\n",
       "    <tr>\n",
       "      <th>9</th>\n",
       "      <td>Democrats don't want massive tax cuts - how do...</td>\n",
       "      <td>111</td>\n",
       "      <td>913371663789625344</td>\n",
       "      <td>2017-09-28 11:55:48</td>\n",
       "      <td>Twitter for iPhone</td>\n",
       "      <td>68280</td>\n",
       "      <td>15709</td>\n",
       "      <td>1</td>\n",
       "    </tr>\n",
       "  </tbody>\n",
       "</table>\n",
       "</div>"
      ],
      "text/plain": [
       "                                              Tweets  len                  ID  \\\n",
       "0  GDP was revised upward to 3.1 for last quarter...  127  913589799411490817   \n",
       "1  RT @GOPChairwoman: The Trump Inaugural Committ...  140  913570791698173952   \n",
       "2  Puerto Rico is devastated. Phone system, elect...  138  913554705816711168   \n",
       "3  RT @billoreilly: Hannity crushing MSNBC at 9. ...  140  913551290717831170   \n",
       "4  RT @IvankaTrump: Thank you to the amazing men ...  140  913550853239443457   \n",
       "5  ...really hard to help but many have lost thei...  138  913550237377138688   \n",
       "6  FEMA &amp; First Responders are doing a GREAT ...  151  913549374227181568   \n",
       "7  Welcome back @SteveScalise!\\n#TeamScalise http...   64  913488283321159680   \n",
       "8  The electric power grid in Puerto Rico is tota...  126  913403237033742336   \n",
       "9  Democrats don't want massive tax cuts - how do...  111  913371663789625344   \n",
       "\n",
       "                 Date              Source  Likes    RTs  SA  \n",
       "0 2017-09-29 02:22:36  Twitter for iPhone  24681   6252   1  \n",
       "1 2017-09-29 01:07:04  Twitter for iPhone      0   7477   1  \n",
       "2 2017-09-29 00:03:09  Twitter for iPhone  35152   7679   1  \n",
       "3 2017-09-28 23:49:35  Twitter for iPhone      0   5103   1  \n",
       "4 2017-09-28 23:47:51  Twitter for iPhone      0   4980   1  \n",
       "5 2017-09-28 23:45:24  Twitter for iPhone  39971   8107   1  \n",
       "6 2017-09-28 23:41:58  Twitter for iPhone  30185   6462   1  \n",
       "7 2017-09-28 19:39:13        Media Studio  48326  10845   1  \n",
       "8 2017-09-28 14:01:16  Twitter for iPhone  73918  15785   1  \n",
       "9 2017-09-28 11:55:48  Twitter for iPhone  68280  15709   1  "
      ]
     },
     "metadata": {},
     "output_type": "display_data"
    }
   ],
   "source": [
    "# Add sentiment as new column in dataframe\n",
    "data['SA'] = np.array([analyse_sentiment(tweet) for tweet in data['Tweets']])\n",
    "\n",
    "# Display the first 10\n",
    "display(data.head(10))"
   ]
  },
  {
   "cell_type": "code",
   "execution_count": 38,
   "metadata": {
    "collapsed": true
   },
   "outputs": [],
   "source": [
    "# Construct lists of the classified tweets:\n",
    "\n",
    "pos_tweets = [tweet for index, tweet in enumerate(data['Tweets']) if data['SA'][index] > 0]\n",
    "neu_tweets = [tweet for index, tweet in enumerate(data['Tweets']) if data['SA'][index] == 0]\n",
    "neg_tweets = [tweet for index, tweet in enumerate(data['Tweets']) if data['SA'][index] < 0]"
   ]
  },
  {
   "cell_type": "code",
   "execution_count": 42,
   "metadata": {},
   "outputs": [
    {
     "name": "stdout",
     "output_type": "stream",
     "text": [
      "Percentage of positive tweets: 60.5%\n",
      "Percentage of neutral tweets: 23.0%\n",
      "Percentage of negative tweets: 16.5%\n"
     ]
    }
   ],
   "source": [
    "# Print sentiment percentages\n",
    "print(\"Percentage of positive tweets: {}%\".format(len(pos_tweets)*100/len(data['Tweets'])))\n",
    "print(\"Percentage of neutral tweets: {}%\".format(len(neu_tweets)*100/len(data['Tweets'])))\n",
    "print(\"Percentage of negative tweets: {}%\".format(len(neg_tweets)*100/len(data['Tweets'])))"
   ]
  },
  {
   "cell_type": "code",
   "execution_count": 45,
   "metadata": {},
   "outputs": [
    {
     "data": {
      "text/plain": [
       "<matplotlib.axes._subplots.AxesSubplot at 0x12056a630>"
      ]
     },
     "execution_count": 45,
     "metadata": {},
     "output_type": "execute_result"
    },
    {
     "data": {
      "image/png": "[encoded data removed]",
      "text/plain": [
       "<matplotlib.figure.Figure at 0x12056eac8>"
      ]
     },
     "metadata": {},
     "output_type": "display_data"
    }
   ],
   "source": [
    "# Display sentiment percentages as pie chart\n",
    "# Create a numpy vector mapped to labels\n",
    "sentiment = np.zeros(3)\n",
    "\n",
    "labels = np.array([\"Positive\", \"Neutral\", \"Negative\"])\n",
    "\n",
    "sentiment[0] = len(pos_tweets)*100/len(data['Tweets'])\n",
    "sentiment[1] = len(neu_tweets)*100/len(data['Tweets'])\n",
    "sentiment[2] = len(neg_tweets)*100/len(data['Tweets'])\n",
    "\n",
    "sentiment /= 100\n",
    "\n",
    "# Plot pie chart:\n",
    "pie_chart = pd.Series(sentiment, index=labels, name='Sentiment')\n",
    "pie_chart.plot.pie(fontsize=11, autopct='%.2f', figsize=(6,6))"
   ]
  },
  {
   "cell_type": "code",
   "execution_count": null,
   "metadata": {
    "collapsed": true
   },
   "outputs": [],
   "source": []
  }
 ],
 "metadata": {
  "kernelspec": {
   "display_name": "Python 3",
   "language": "python",
   "name": "python3"
  },
  "language_info": {
   "codemirror_mode": {
    "name": "ipython",
    "version": 3
   },
   "file_extension": ".py",
   "mimetype": "text/x-python",
   "name": "python",
   "nbconvert_exporter": "python",
   "pygments_lexer": "ipython3",
   "version": "3.5.3"
  }
 },
 "nbformat": 4,
 "nbformat_minor": 2
}
